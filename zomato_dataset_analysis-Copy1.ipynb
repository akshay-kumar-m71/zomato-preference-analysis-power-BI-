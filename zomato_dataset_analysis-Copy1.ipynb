{
 "cells": [
  {
   "cell_type": "markdown",
   "id": "0a7cc7ef",
   "metadata": {},
   "source": [
    "# zomato Preference Analysis\n",
    "\n",
    "Dataset Link:https://www.kaggle.com/datasets/rrkcoder/zomato-data-40k-restaurants-of-indias-100-cities/download?datasetVersionNumber=1\n"
   ]
  },
  {
   "cell_type": "code",
   "execution_count": 1,
   "id": "931ba3c1",
   "metadata": {},
   "outputs": [],
   "source": [
    "import pandas as pd\n",
    "import numpy as np"
   ]
  },
  {
   "cell_type": "code",
   "execution_count": 2,
   "id": "f677461f",
   "metadata": {},
   "outputs": [],
   "source": [
    "#- Read the Zomato dataset containing information about restaurants, ratings, cuisines, and related details to perform user preference analysis.\n",
    "data=pd.read_csv(dataset_link,index_col=False)"
   ]
  },
  {
   "cell_type": "code",
   "execution_count": 3,
   "id": "80978f54",
   "metadata": {},
   "outputs": [
    {
     "name": "stdout",
     "output_type": "stream",
     "text": [
      "<class 'pandas.core.frame.DataFrame'>\n",
      "RangeIndex: 44891 entries, 0 to 44890\n",
      "Data columns (total 7 columns):\n",
      " #   Column                 Non-Null Count  Dtype \n",
      "---  ------                 --------------  ----- \n",
      " 0   Restaurant Name        44891 non-null  object\n",
      " 1   Rating                 44891 non-null  object\n",
      " 2   Cuisine                44872 non-null  object\n",
      " 3   Average Price          44891 non-null  object\n",
      " 4   Average Delivery Time  44891 non-null  object\n",
      " 5   Safety Measure         44891 non-null  object\n",
      " 6   Location               44891 non-null  object\n",
      "dtypes: object(7)\n",
      "memory usage: 2.4+ MB\n",
      "None\n"
     ]
    }
   ],
   "source": [
    "# Converting Data to Pandas DataFrame and Displaying Information\n",
    "\n",
    "## Objective:\n",
    "#- Convert the loaded Zomato dataset into a pandas DataFrame for efficient data manipulation and analysis.\n",
    "#- Display essential information about the DataFrame.\n",
    "\n",
    "df=pd.DataFrame(data)\n",
    "print(df.info())"
   ]
  },
  {
   "cell_type": "code",
   "execution_count": 4,
   "id": "5b6c20c5",
   "metadata": {},
   "outputs": [
    {
     "name": "stdout",
     "output_type": "stream",
     "text": [
      "Restaurant Name           0\n",
      "Rating                    0\n",
      "Cuisine                  19\n",
      "Average Price             0\n",
      "Average Delivery Time     0\n",
      "Safety Measure            0\n",
      "Location                  0\n",
      "dtype: int64\n"
     ]
    }
   ],
   "source": [
    "#Checking for Missing Values in the Zomato DataFrame\n",
    "\n",
    "## Objective:\n",
    "#- Examine the dataset for missing values to assess data integrity and plan for data cleaning if necessary.\n",
    "\n",
    "print(df.isnull().sum())"
   ]
  },
  {
   "cell_type": "code",
   "execution_count": 5,
   "id": "9e3c2bbd",
   "metadata": {},
   "outputs": [
    {
     "name": "stdout",
     "output_type": "stream",
     "text": [
      "                       Restaurant Name Rating  \\\n",
      "0                        Campus Bakers    4.3   \n",
      "1       Mama Chicken Mama Franky House      4   \n",
      "2     GMB - Gopika Sweets & Restaurant    4.2   \n",
      "3  Shree Bankey Bihari Misthan Bhandar    4.2   \n",
      "4                          Burger King    4.2   \n",
      "\n",
      "                                             Cuisine Average Price  \\\n",
      "0         Bakery, Fast Food, Pizza, Sandwich, Burger   ₹50 for one   \n",
      "1        North Indian, Mughlai, Rolls, Burger, Momos   ₹50 for one   \n",
      "2  North Indian, South Indian, Chinese, Fast Food...   ₹50 for one   \n",
      "3  Mithai, Street Food, South Indian, Chinese, Ic...   ₹50 for one   \n",
      "4                       Burger, Fast Food, Beverages   ₹50 for one   \n",
      "\n",
      "  Average Delivery Time                                     Safety Measure  \\\n",
      "0                36 min            Restaurant partner follows WHO protocol   \n",
      "1                22 min  Follows all Max Safety measures to ensure your...   \n",
      "2                27 min  Follows all Max Safety measures to ensure your...   \n",
      "3                28 min            Restaurant partner follows WHO protocol   \n",
      "4                26 min  Follows all Max Safety measures to ensure your...   \n",
      "\n",
      "  Location  \n",
      "0     Agra  \n",
      "1     Agra  \n",
      "2     Agra  \n",
      "3     Agra  \n",
      "4     Agra  \n"
     ]
    }
   ],
   "source": [
    "# Displaying the Initial Rows of the Zomato DataFrame\n",
    "\n",
    "## Objective:\n",
    "#- Provide a preview of the dataset by displaying the first few rows of the Zomato DataFrame.\n",
    "\n",
    "print(df.head())"
   ]
  },
  {
   "cell_type": "code",
   "execution_count": 6,
   "id": "8c9b0a79",
   "metadata": {},
   "outputs": [
    {
     "data": {
      "text/plain": [
       "Index(['Restaurant Name', 'Rating', 'Cuisine', 'Average Price',\n",
       "       'Average Delivery Time', 'Safety Measure', 'Location'],\n",
       "      dtype='object')"
      ]
     },
     "execution_count": 6,
     "metadata": {},
     "output_type": "execute_result"
    }
   ],
   "source": [
    "# Displaying Column Names of the Zomato DataFrame\n",
    "\n",
    "## Objective:\n",
    "#- Obtain a list of column names in the Zomato DataFrame for reference and further analysis.\n",
    "\n",
    "df.columns"
   ]
  },
  {
   "cell_type": "code",
   "execution_count": 7,
   "id": "5926e3f1",
   "metadata": {},
   "outputs": [
    {
     "name": "stdout",
     "output_type": "stream",
     "text": [
      "                              Restaurant Name Rating  \\\n",
      "0                               Campus Bakers    4.3   \n",
      "1              Mama Chicken Mama Franky House      4   \n",
      "2            GMB - Gopika Sweets & Restaurant    4.2   \n",
      "3         Shree Bankey Bihari Misthan Bhandar    4.2   \n",
      "4                                 Burger King    4.2   \n",
      "...                                       ...    ...   \n",
      "44873    Country Oven Multi Cusine Restaurant    3.7   \n",
      "44874                    KAKATIYA Grand Udupi    4.1   \n",
      "44876  S K Point A Complete Family Restaurant    4.3   \n",
      "44878              Madhuram Tiffins And Meals    4.1   \n",
      "44883                        MS Tiffin Center    4.0   \n",
      "\n",
      "                                                 Cuisine Average Price  \\\n",
      "0             Bakery, Fast Food, Pizza, Sandwich, Burger   ₹50 for one   \n",
      "1            North Indian, Mughlai, Rolls, Burger, Momos   ₹50 for one   \n",
      "2      North Indian, South Indian, Chinese, Fast Food...   ₹50 for one   \n",
      "3      Mithai, Street Food, South Indian, Chinese, Ic...   ₹50 for one   \n",
      "4                           Burger, Fast Food, Beverages   ₹50 for one   \n",
      "...                                                  ...           ...   \n",
      "44873       Biryani, Chinese, Kebab, North Indian, Salad   ₹50 for one   \n",
      "44874                               South Indian, Andhra   ₹50 for one   \n",
      "44876                                            Biryani   ₹50 for one   \n",
      "44878                                       South Indian   ₹50 for one   \n",
      "44883                                       South Indian  ₹350 for one   \n",
      "\n",
      "        Average Delivery Time  \\\n",
      "0                      36 min   \n",
      "1                      22 min   \n",
      "2                      27 min   \n",
      "3                      28 min   \n",
      "4                      26 min   \n",
      "...                       ...   \n",
      "44873  Opens tomorrow at 11am   \n",
      "44874  Opens tomorrow at 11am   \n",
      "44876  Opens tomorrow at 11am   \n",
      "44878  Opens tomorrow at 11am   \n",
      "44883  Opens tomorrow at 11am   \n",
      "\n",
      "                                          Safety Measure  Location  \n",
      "0                Restaurant partner follows WHO protocol      Agra  \n",
      "1      Follows all Max Safety measures to ensure your...      Agra  \n",
      "2      Follows all Max Safety measures to ensure your...      Agra  \n",
      "3                Restaurant partner follows WHO protocol      Agra  \n",
      "4      Follows all Max Safety measures to ensure your...      Agra  \n",
      "...                                                  ...       ...  \n",
      "44873  Follows all Max Safety measures to ensure your...  Warangal  \n",
      "44874  Follows all Max Safety measures to ensure your...  Warangal  \n",
      "44876  Follows all Max Safety measures to ensure your...  Warangal  \n",
      "44878  Follows all Max Safety measures to ensure your...  Warangal  \n",
      "44883  Follows all Max Safety measures to ensure your...  Warangal  \n",
      "\n",
      "[37826 rows x 7 columns]\n"
     ]
    }
   ],
   "source": [
    "# Filtering Zomato DataFrame based on Rating Values\n",
    "\n",
    "## Objective:\n",
    "#- Remove rows from the Zomato DataFrame where the 'Rating' column contains specific values from the given list.\n",
    "\n",
    "list=[\" \",\"_\",\"New\",\"-\"]\n",
    "df=df[df.Rating.isin(list)==False]\n",
    "print(df)"
   ]
  },
  {
   "cell_type": "code",
   "execution_count": 8,
   "id": "340f0eed",
   "metadata": {},
   "outputs": [],
   "source": [
    "# Filtering Zomato DataFrame to Exclude Rows with Null Cuisine Values\n",
    "\n",
    "## Objective:\n",
    "#- Remove rows from the Zomato DataFrame where the 'Cuisine' column contains null (missing) values.\n",
    "\n",
    "df=df[df[\"Cuisine\"].isnull()==False]"
   ]
  },
  {
   "cell_type": "code",
   "execution_count": 9,
   "id": "74733fd5",
   "metadata": {},
   "outputs": [
    {
     "name": "stdout",
     "output_type": "stream",
     "text": [
      "Empty DataFrame\n",
      "Columns: [Restaurant Name, Rating, Cuisine, Average Price, Average Delivery Time, Safety Measure, Location]\n",
      "Index: []\n"
     ]
    }
   ],
   "source": [
    "# Displaying Rows with Null Values in the 'Location' Column\n",
    "\n",
    "## Objective:\n",
    "#- Print the rows in the Zomato DataFrame where the 'Location' column contains null (missing) values.\n",
    "\n",
    "print(df[df[\"Location\"].isnull()==True])"
   ]
  },
  {
   "cell_type": "code",
   "execution_count": 10,
   "id": "8f513877",
   "metadata": {},
   "outputs": [
    {
     "name": "stdout",
     "output_type": "stream",
     "text": [
      "                              Restaurant Name Rating  \\\n",
      "0                               Campus Bakers    4.3   \n",
      "1              Mama Chicken Mama Franky House      4   \n",
      "2            GMB - Gopika Sweets & Restaurant    4.2   \n",
      "3         Shree Bankey Bihari Misthan Bhandar    4.2   \n",
      "4                                 Burger King    4.2   \n",
      "...                                       ...    ...   \n",
      "44873    Country Oven Multi Cusine Restaurant    3.7   \n",
      "44874                    KAKATIYA Grand Udupi    4.1   \n",
      "44876  S K Point A Complete Family Restaurant    4.3   \n",
      "44878              Madhuram Tiffins And Meals    4.1   \n",
      "44883                        MS Tiffin Center    4.0   \n",
      "\n",
      "                                                 Cuisine Average Price  \\\n",
      "0             Bakery, Fast Food, Pizza, Sandwich, Burger   ₹50 for one   \n",
      "1            North Indian, Mughlai, Rolls, Burger, Momos   ₹50 for one   \n",
      "2      North Indian, South Indian, Chinese, Fast Food...   ₹50 for one   \n",
      "3      Mithai, Street Food, South Indian, Chinese, Ic...   ₹50 for one   \n",
      "4                           Burger, Fast Food, Beverages   ₹50 for one   \n",
      "...                                                  ...           ...   \n",
      "44873       Biryani, Chinese, Kebab, North Indian, Salad   ₹50 for one   \n",
      "44874                               South Indian, Andhra   ₹50 for one   \n",
      "44876                                            Biryani   ₹50 for one   \n",
      "44878                                       South Indian   ₹50 for one   \n",
      "44883                                       South Indian  ₹350 for one   \n",
      "\n",
      "        Average Delivery Time  \\\n",
      "0                      36 min   \n",
      "1                      22 min   \n",
      "2                      27 min   \n",
      "3                      28 min   \n",
      "4                      26 min   \n",
      "...                       ...   \n",
      "44873  Opens tomorrow at 11am   \n",
      "44874  Opens tomorrow at 11am   \n",
      "44876  Opens tomorrow at 11am   \n",
      "44878  Opens tomorrow at 11am   \n",
      "44883  Opens tomorrow at 11am   \n",
      "\n",
      "                                          Safety Measure  Location  \n",
      "0                Restaurant partner follows WHO protocol      Agra  \n",
      "1      Follows all Max Safety measures to ensure your...      Agra  \n",
      "2      Follows all Max Safety measures to ensure your...      Agra  \n",
      "3                Restaurant partner follows WHO protocol      Agra  \n",
      "4      Follows all Max Safety measures to ensure your...      Agra  \n",
      "...                                                  ...       ...  \n",
      "44873  Follows all Max Safety measures to ensure your...  Warangal  \n",
      "44874  Follows all Max Safety measures to ensure your...  Warangal  \n",
      "44876  Follows all Max Safety measures to ensure your...  Warangal  \n",
      "44878  Follows all Max Safety measures to ensure your...  Warangal  \n",
      "44883  Follows all Max Safety measures to ensure your...  Warangal  \n",
      "\n",
      "[37818 rows x 7 columns]\n"
     ]
    }
   ],
   "source": [
    "print(df)"
   ]
  },
  {
   "cell_type": "code",
   "execution_count": 11,
   "id": "4acae6ae",
   "metadata": {},
   "outputs": [
    {
     "name": "stdout",
     "output_type": "stream",
     "text": [
      "                              Restaurant Name Rating  \\\n",
      "0                               Campus Bakers    4.3   \n",
      "1              Mama Chicken Mama Franky House      4   \n",
      "2            GMB - Gopika Sweets & Restaurant    4.2   \n",
      "3         Shree Bankey Bihari Misthan Bhandar    4.2   \n",
      "4                                 Burger King    4.2   \n",
      "...                                       ...    ...   \n",
      "44873    Country Oven Multi Cusine Restaurant    3.7   \n",
      "44874                    KAKATIYA Grand Udupi    4.1   \n",
      "44876  S K Point A Complete Family Restaurant    4.3   \n",
      "44878              Madhuram Tiffins And Meals    4.1   \n",
      "44883                        MS Tiffin Center    4.0   \n",
      "\n",
      "                                                 Cuisine Average Price  \\\n",
      "0             Bakery, Fast Food, Pizza, Sandwich, Burger            50   \n",
      "1            North Indian, Mughlai, Rolls, Burger, Momos            50   \n",
      "2      North Indian, South Indian, Chinese, Fast Food...            50   \n",
      "3      Mithai, Street Food, South Indian, Chinese, Ic...            50   \n",
      "4                           Burger, Fast Food, Beverages            50   \n",
      "...                                                  ...           ...   \n",
      "44873       Biryani, Chinese, Kebab, North Indian, Salad            50   \n",
      "44874                               South Indian, Andhra            50   \n",
      "44876                                            Biryani            50   \n",
      "44878                                       South Indian            50   \n",
      "44883                                       South Indian           350   \n",
      "\n",
      "        Average Delivery Time  \\\n",
      "0                      36 min   \n",
      "1                      22 min   \n",
      "2                      27 min   \n",
      "3                      28 min   \n",
      "4                      26 min   \n",
      "...                       ...   \n",
      "44873  Opens tomorrow at 11am   \n",
      "44874  Opens tomorrow at 11am   \n",
      "44876  Opens tomorrow at 11am   \n",
      "44878  Opens tomorrow at 11am   \n",
      "44883  Opens tomorrow at 11am   \n",
      "\n",
      "                                          Safety Measure  Location  \n",
      "0                Restaurant partner follows WHO protocol      Agra  \n",
      "1      Follows all Max Safety measures to ensure your...      Agra  \n",
      "2      Follows all Max Safety measures to ensure your...      Agra  \n",
      "3                Restaurant partner follows WHO protocol      Agra  \n",
      "4      Follows all Max Safety measures to ensure your...      Agra  \n",
      "...                                                  ...       ...  \n",
      "44873  Follows all Max Safety measures to ensure your...  Warangal  \n",
      "44874  Follows all Max Safety measures to ensure your...  Warangal  \n",
      "44876  Follows all Max Safety measures to ensure your...  Warangal  \n",
      "44878  Follows all Max Safety measures to ensure your...  Warangal  \n",
      "44883  Follows all Max Safety measures to ensure your...  Warangal  \n",
      "\n",
      "[37818 rows x 7 columns]\n"
     ]
    }
   ],
   "source": [
    "# Extracting Numerical Values from 'Average Price' Column\n",
    "\n",
    "## Objective:\n",
    "#- Extract numerical values from the 'Average Price' column, assuming values are prefixed with the Indian Rupee symbol (₹).\n",
    "\n",
    "df[\"Average Price\"]=df[\"Average Price\"].str.extract(r'\\₹(\\d+)', expand=False)\n",
    "print(df)"
   ]
  },
  {
   "cell_type": "code",
   "execution_count": 12,
   "id": "9dd8db4b",
   "metadata": {},
   "outputs": [],
   "source": [
    "# Filtering Zomato DataFrame Based on 'Average Delivery Time'\n",
    "\n",
    "## Objective:\n",
    "#- Remove rows from the Zomato DataFrame where the 'Average Delivery Time' column starts with specific values from the given list.\n",
    "\n",
    "list=[\"Currently not accepting orders\",\"Opens\"]\n",
    "df=df[df[\"Average Delivery Time\"].str.startswith(\"Opens\")==False]"
   ]
  },
  {
   "cell_type": "code",
   "execution_count": 13,
   "id": "27ca73de",
   "metadata": {},
   "outputs": [
    {
     "name": "stdout",
     "output_type": "stream",
     "text": [
      "                           Restaurant Name Rating  \\\n",
      "0                            Campus Bakers    4.3   \n",
      "1           Mama Chicken Mama Franky House      4   \n",
      "2         GMB - Gopika Sweets & Restaurant    4.2   \n",
      "3      Shree Bankey Bihari Misthan Bhandar    4.2   \n",
      "4                              Burger King    4.2   \n",
      "...                                    ...    ...   \n",
      "44832               The Belgian Waffle Co.    4.5   \n",
      "44843                        Sneha Tiffins    4.3   \n",
      "44844                          Chop Sticks    3.7   \n",
      "44853                 KAKATIYA Grand Hotel    4.2   \n",
      "44858                     Peacock FastFood    4.0   \n",
      "\n",
      "                                                 Cuisine Average Price  \\\n",
      "0             Bakery, Fast Food, Pizza, Sandwich, Burger            50   \n",
      "1            North Indian, Mughlai, Rolls, Burger, Momos            50   \n",
      "2      North Indian, South Indian, Chinese, Fast Food...            50   \n",
      "3      Mithai, Street Food, South Indian, Chinese, Ic...            50   \n",
      "4                           Burger, Fast Food, Beverages            50   \n",
      "...                                                  ...           ...   \n",
      "44832    Waffle, Pancake, Desserts, Beverages, Ice Cream           200   \n",
      "44843                                       South Indian           100   \n",
      "44844                     Chinese, North Indian, Seafood           200   \n",
      "44853             South Indian, North Indian, Hyderabadi           150   \n",
      "44858                                          Fast Food           100   \n",
      "\n",
      "                                   Average Delivery Time  \\\n",
      "0                                                 36 min   \n",
      "1                                                 22 min   \n",
      "2                                                 27 min   \n",
      "3                                                 28 min   \n",
      "4                                                 26 min   \n",
      "...                                                  ...   \n",
      "44832  Temporarily closed for dining, will be back soon!   \n",
      "44843                     Currently not accepting orders   \n",
      "44844                        Opening hours not available   \n",
      "44853                     Currently not accepting orders   \n",
      "44858                     Currently not accepting orders   \n",
      "\n",
      "                                          Safety Measure  Location  \n",
      "0                Restaurant partner follows WHO protocol      Agra  \n",
      "1      Follows all Max Safety measures to ensure your...      Agra  \n",
      "2      Follows all Max Safety measures to ensure your...      Agra  \n",
      "3                Restaurant partner follows WHO protocol      Agra  \n",
      "4      Follows all Max Safety measures to ensure your...      Agra  \n",
      "...                                                  ...       ...  \n",
      "44832  Follows all Max Safety measures to ensure your...  Warangal  \n",
      "44843  Follows all Max Safety measures to ensure your...  Warangal  \n",
      "44844  Follows all Max Safety measures to ensure your...  Warangal  \n",
      "44853  Follows all Max Safety measures to ensure your...  Warangal  \n",
      "44858  Follows all Max Safety measures to ensure your...  Warangal  \n",
      "\n",
      "[35885 rows x 7 columns]\n"
     ]
    }
   ],
   "source": [
    "print(df)"
   ]
  },
  {
   "cell_type": "code",
   "execution_count": 14,
   "id": "0011eacc",
   "metadata": {
    "scrolled": true
   },
   "outputs": [],
   "source": [
    "# Further Filtering Zomato DataFrame Based on 'Average Delivery Time'\n",
    "\n",
    "## Objective:\n",
    "#- Continue refining the Zomato DataFrame by removing rows where the 'Average Delivery Time' column starts with specific phrases.\n",
    "\n",
    "\n",
    "df=df[df[\"Average Delivery Time\"].str.startswith(\"Currently\")==False]\n",
    "df=df[df[\"Average Delivery Time\"].str.startswith(\"Temporarily\")==False]\n",
    "df=df[df[\"Average Delivery Time\"].str.startswith(\"Opening\")==False]"
   ]
  },
  {
   "cell_type": "code",
   "execution_count": 15,
   "id": "e2847c73",
   "metadata": {},
   "outputs": [],
   "source": [
    "df=df[df[\"Average Delivery Time\"].str.startswith(\"Closes\")==False]"
   ]
  },
  {
   "cell_type": "code",
   "execution_count": 18,
   "id": "f6a1a621",
   "metadata": {},
   "outputs": [
    {
     "name": "stdout",
     "output_type": "stream",
     "text": [
      "                                        Restaurant Name Rating  \\\n",
      "1109                    Classic Derani Jethani Icecream    4.4   \n",
      "1307                               Mamta Cake And Bakes    4.1   \n",
      "3120                      New Brijwasi Fast Food Corner    4.0   \n",
      "5304                           Rasmalai Sweet & Namkeen    4.1   \n",
      "5369                                          Cake Walk    4.2   \n",
      "13334                                             ibaco    4.4   \n",
      "13423                                        Lassi Shop    3.9   \n",
      "16241                                      Ravi Alpahar    4.3   \n",
      "26153                             Ludhiana Egg Parantha    3.9   \n",
      "27223                                    NIC Ice Creams    4.5   \n",
      "27226                            Crave Desserts & Bakes    4.2   \n",
      "37216                                   Arun Ice Creams    4.5   \n",
      "37224  Kwality Wall’s Frozen Dessert and Ice Cream Shop    4.3   \n",
      "38563                              Sea Rock Chaat House    3.5   \n",
      "39820                                White Palace Hotel    4.3   \n",
      "39910                          Vaira Maaligai Take Away    4.4   \n",
      "43765                                    Karachi Bakery    4.3   \n",
      "43793                                      Andhra Spice    4.0   \n",
      "43837                           Ramus Sweets And Bakery    4.2   \n",
      "\n",
      "                                                 Cuisine Average Price  \\\n",
      "1109                                 Ice Cream, Desserts            50   \n",
      "1307                                   Bakery, Fast Food           150   \n",
      "3120                                         Street Food           100   \n",
      "5304                                            Desserts           100   \n",
      "5369                                            Desserts           150   \n",
      "13334                                Ice Cream, Desserts           400   \n",
      "13423                     Beverages, Ice Cream, Desserts           150   \n",
      "16241                             Street Food, Fast Food           100   \n",
      "26153                                       North Indian            50   \n",
      "27223                                Ice Cream, Desserts           150   \n",
      "27226                        Desserts, Fast Food, Bakery           100   \n",
      "37216                                Ice Cream, Desserts           100   \n",
      "37224                                Ice Cream, Desserts           150   \n",
      "38563                                        Street Food           150   \n",
      "39820  Chinese, Pasta, Seafood, North Indian, Dessert...           250   \n",
      "39910                                       South Indian           100   \n",
      "43765                        Bakery, Fast Food, Desserts           250   \n",
      "43793                           Biryani, Andhra, Chinese           250   \n",
      "43837              Bakery, Mithai, Desserts, Street Food           450   \n",
      "\n",
      "      Average Delivery Time  \\\n",
      "1109                     10   \n",
      "1307                     10   \n",
      "3120                     10   \n",
      "5304                     10   \n",
      "5369                     10   \n",
      "13334                    10   \n",
      "13423                    10   \n",
      "16241                    10   \n",
      "26153                    10   \n",
      "27223                    10   \n",
      "27226                    10   \n",
      "37216                    10   \n",
      "37224                    10   \n",
      "38563                    10   \n",
      "39820                    10   \n",
      "39910                    10   \n",
      "43765                    10   \n",
      "43793                    10   \n",
      "43837                    10   \n",
      "\n",
      "                                          Safety Measure     Location  \n",
      "1109   Follows all Max Safety measures to ensure your...    Ahmedabad  \n",
      "1307             Restaurant partner follows WHO protocol        Ajmer  \n",
      "3120             Restaurant partner follows WHO protocol     Amritsar  \n",
      "5304             Restaurant partner follows WHO protocol    Bhavnagar  \n",
      "5369             Restaurant partner follows WHO protocol    Bhavnagar  \n",
      "13334  Follows all Max Safety measures to ensure your...       Guntur  \n",
      "13423  Follows all Max Safety measures to ensure your...       Guntur  \n",
      "16241  Follows all Max Safety measures to ensure your...       Indore  \n",
      "26153            Restaurant partner follows WHO protocol     Ludhiana  \n",
      "27223            Restaurant partner follows WHO protocol      Manipal  \n",
      "27226            Restaurant partner follows WHO protocol      Manipal  \n",
      "37216  Follows all Max Safety measures to ensure your...        Salem  \n",
      "37224            Restaurant partner follows WHO protocol        Salem  \n",
      "38563  Follows all Max Safety measures to ensure your...      Solapur  \n",
      "39820  Follows all Max Safety measures to ensure your...     Thrissur  \n",
      "39910  Follows all Max Safety measures to ensure your...  Tirunelveli  \n",
      "43765  Follows all Max Safety measures to ensure your...   Vijayawada  \n",
      "43793  Follows all Max Safety measures to ensure your...   Vijayawada  \n",
      "43837  Follows all Max Safety measures to ensure your...   Vijayawada  \n"
     ]
    }
   ],
   "source": [
    "# Extracting and Filtering 'Average Delivery Time' Values\n",
    "\n",
    "## Objective:\n",
    "#- Extract numerical values from the 'Average Delivery Time' column and filter the DataFrame to include only rows where the delivery time is equal to \"10\".\n",
    "\n",
    "df[\"Average Delivery Time\"]=df[\"Average Delivery Time\"].str.extract(r'(\\d+)\\s?\\w*', expand=False)\n",
    "print(df[df[\"Average Delivery Time\"]==\"10\"])"
   ]
  },
  {
   "cell_type": "code",
   "execution_count": 19,
   "id": "6fdce81a",
   "metadata": {},
   "outputs": [
    {
     "name": "stdout",
     "output_type": "stream",
     "text": [
      "0\n"
     ]
    }
   ],
   "source": [
    "# Counting Null Values in the 'Safety Measure' Column\n",
    "\n",
    "## Objective:\n",
    "#- Determine and print the number of null (missing) values in the 'Safety Measure' column.\n",
    "\n",
    "print(df[\"Safety Measure\"].isnull().sum())"
   ]
  },
  {
   "cell_type": "code",
   "execution_count": 20,
   "id": "572dc4a7",
   "metadata": {},
   "outputs": [
    {
     "name": "stdout",
     "output_type": "stream",
     "text": [
      "                           Restaurant Name Rating  \\\n",
      "0                            Campus Bakers    4.3   \n",
      "1           Mama Chicken Mama Franky House      4   \n",
      "2         GMB - Gopika Sweets & Restaurant    4.2   \n",
      "3      Shree Bankey Bihari Misthan Bhandar    4.2   \n",
      "4                              Burger King    4.2   \n",
      "...                                    ...    ...   \n",
      "44804         RRR Multi Cuisine Restaurant    4.0   \n",
      "44806                   Puliyogare Company    2.9   \n",
      "44810                         Sultan Mandi    3.2   \n",
      "44813                   Candy Eats &Treats    3.8   \n",
      "44814                         Mandi Darbar    3.7   \n",
      "\n",
      "                                                 Cuisine Average Price  \\\n",
      "0             Bakery, Fast Food, Pizza, Sandwich, Burger            50   \n",
      "1            North Indian, Mughlai, Rolls, Burger, Momos            50   \n",
      "2      North Indian, South Indian, Chinese, Fast Food...            50   \n",
      "3      Mithai, Street Food, South Indian, Chinese, Ic...            50   \n",
      "4                           Burger, Fast Food, Beverages            50   \n",
      "...                                                  ...           ...   \n",
      "44804                                       North Indian           300   \n",
      "44806                                       South Indian           300   \n",
      "44810                                     Mandi, Arabian           300   \n",
      "44813                                  Bakery, Fast Food           300   \n",
      "44814                                            Arabian           300   \n",
      "\n",
      "      Average Delivery Time Safety Measure  Location  \n",
      "0                        36            WHO      Agra  \n",
      "1                        22         safety      Agra  \n",
      "2                        27         safety      Agra  \n",
      "3                        28            WHO      Agra  \n",
      "4                        26         safety      Agra  \n",
      "...                     ...            ...       ...  \n",
      "44804                    26         safety  Warangal  \n",
      "44806                    29         safety  Warangal  \n",
      "44810                    37         safety  Warangal  \n",
      "44813                    32         safety  Warangal  \n",
      "44814                    37         safety  Warangal  \n",
      "\n",
      "[34863 rows x 7 columns]\n"
     ]
    }
   ],
   "source": [
    "# Categorizing 'Safety Measure' Values\n",
    "\n",
    "## Objective:\n",
    "#- Categorize values in the 'Safety Measure' column based on whether they start with \"Follows\" or not.\n",
    "\n",
    "def rep(x):\n",
    "    if(x.startswith(\"Follows\")==True):\n",
    "        return \"safety\"\n",
    "    else:\n",
    "        return \"WHO\"\n",
    "            \n",
    "df[\"Safety Measure\"]=df[\"Safety Measure\"].apply(lambda x:rep(x))\n",
    "print(df)"
   ]
  },
  {
   "cell_type": "code",
   "execution_count": 21,
   "id": "7e609eaa",
   "metadata": {},
   "outputs": [
    {
     "name": "stdout",
     "output_type": "stream",
     "text": [
      "0\n"
     ]
    }
   ],
   "source": [
    "# Counting Null Values in the 'Location' Column\n",
    "\n",
    "## Objective:\n",
    "#- Determine and print the number of null (missing) values in the 'Location' column.\n",
    "\n",
    "print(df[\"Location\"].isnull().sum())"
   ]
  },
  {
   "cell_type": "code",
   "execution_count": 23,
   "id": "606c4a22",
   "metadata": {},
   "outputs": [
    {
     "name": "stdout",
     "output_type": "stream",
     "text": [
      "Restaurant Name          object\n",
      "Rating                   object\n",
      "Cuisine                  object\n",
      "Average Price            object\n",
      "Average Delivery Time    object\n",
      "Safety Measure           object\n",
      "Location                 object\n",
      "dtype: object\n"
     ]
    }
   ],
   "source": [
    "print(df.dtypes)"
   ]
  },
  {
   "cell_type": "code",
   "execution_count": 24,
   "id": "1b9751ed",
   "metadata": {},
   "outputs": [],
   "source": [
    " df=df[df['Average Price'].isnull()==False]"
   ]
  },
  {
   "cell_type": "code",
   "execution_count": 25,
   "id": "392c1da0",
   "metadata": {},
   "outputs": [
    {
     "name": "stdout",
     "output_type": "stream",
     "text": [
      "7\n"
     ]
    }
   ],
   "source": [
    "# Counting Null Values in the 'Average Delivery Time' Column\n",
    "\n",
    "## Objective:\n",
    "# Determine and print the number of null (missing) values in the 'Average Delivery Time' column.\n",
    "\n",
    "print(df['Average Delivery Time'].isnull().values.sum())"
   ]
  },
  {
   "cell_type": "code",
   "execution_count": 26,
   "id": "3b04439a",
   "metadata": {},
   "outputs": [],
   "source": [
    "df=df[df['Average Delivery Time'].isnull()==False]"
   ]
  },
  {
   "cell_type": "code",
   "execution_count": 27,
   "id": "8d77a52c",
   "metadata": {},
   "outputs": [
    {
     "name": "stdout",
     "output_type": "stream",
     "text": [
      "0\n"
     ]
    }
   ],
   "source": [
    "print(df['Average Delivery Time'].isnull().values.sum())"
   ]
  },
  {
   "cell_type": "code",
   "execution_count": 28,
   "id": "ae4a7d70",
   "metadata": {},
   "outputs": [
    {
     "name": "stdout",
     "output_type": "stream",
     "text": [
      "False\n"
     ]
    }
   ],
   "source": [
    "print(df.isnull().values.any())"
   ]
  },
  {
   "cell_type": "code",
   "execution_count": 29,
   "id": "098fe387",
   "metadata": {},
   "outputs": [
    {
     "name": "stdout",
     "output_type": "stream",
     "text": [
      "                                        Restaurant Name Rating  \\\n",
      "1109                    Classic Derani Jethani Icecream    4.4   \n",
      "1307                               Mamta Cake And Bakes    4.1   \n",
      "3120                      New Brijwasi Fast Food Corner    4.0   \n",
      "5304                           Rasmalai Sweet & Namkeen    4.1   \n",
      "5369                                          Cake Walk    4.2   \n",
      "13334                                             ibaco    4.4   \n",
      "13423                                        Lassi Shop    3.9   \n",
      "16241                                      Ravi Alpahar    4.3   \n",
      "26153                             Ludhiana Egg Parantha    3.9   \n",
      "27223                                    NIC Ice Creams    4.5   \n",
      "27226                            Crave Desserts & Bakes    4.2   \n",
      "37216                                   Arun Ice Creams    4.5   \n",
      "37224  Kwality Wall’s Frozen Dessert and Ice Cream Shop    4.3   \n",
      "38563                              Sea Rock Chaat House    3.5   \n",
      "39820                                White Palace Hotel    4.3   \n",
      "39910                          Vaira Maaligai Take Away    4.4   \n",
      "43765                                    Karachi Bakery    4.3   \n",
      "43793                                      Andhra Spice    4.0   \n",
      "43837                           Ramus Sweets And Bakery    4.2   \n",
      "\n",
      "                                                 Cuisine Average Price  \\\n",
      "1109                                 Ice Cream, Desserts            50   \n",
      "1307                                   Bakery, Fast Food           150   \n",
      "3120                                         Street Food           100   \n",
      "5304                                            Desserts           100   \n",
      "5369                                            Desserts           150   \n",
      "13334                                Ice Cream, Desserts           400   \n",
      "13423                     Beverages, Ice Cream, Desserts           150   \n",
      "16241                             Street Food, Fast Food           100   \n",
      "26153                                       North Indian            50   \n",
      "27223                                Ice Cream, Desserts           150   \n",
      "27226                        Desserts, Fast Food, Bakery           100   \n",
      "37216                                Ice Cream, Desserts           100   \n",
      "37224                                Ice Cream, Desserts           150   \n",
      "38563                                        Street Food           150   \n",
      "39820  Chinese, Pasta, Seafood, North Indian, Dessert...           250   \n",
      "39910                                       South Indian           100   \n",
      "43765                        Bakery, Fast Food, Desserts           250   \n",
      "43793                           Biryani, Andhra, Chinese           250   \n",
      "43837              Bakery, Mithai, Desserts, Street Food           450   \n",
      "\n",
      "      Average Delivery Time Safety Measure     Location  \n",
      "1109                     10         safety    Ahmedabad  \n",
      "1307                     10            WHO        Ajmer  \n",
      "3120                     10            WHO     Amritsar  \n",
      "5304                     10            WHO    Bhavnagar  \n",
      "5369                     10            WHO    Bhavnagar  \n",
      "13334                    10         safety       Guntur  \n",
      "13423                    10         safety       Guntur  \n",
      "16241                    10         safety       Indore  \n",
      "26153                    10            WHO     Ludhiana  \n",
      "27223                    10            WHO      Manipal  \n",
      "27226                    10            WHO      Manipal  \n",
      "37216                    10         safety        Salem  \n",
      "37224                    10            WHO        Salem  \n",
      "38563                    10         safety      Solapur  \n",
      "39820                    10         safety     Thrissur  \n",
      "39910                    10         safety  Tirunelveli  \n",
      "43765                    10         safety   Vijayawada  \n",
      "43793                    10         safety   Vijayawada  \n",
      "43837                    10         safety   Vijayawada  \n"
     ]
    }
   ],
   "source": [
    "print(df[df[\"Average Delivery Time\"]==\"10\"])"
   ]
  },
  {
   "cell_type": "code",
   "execution_count": 30,
   "id": "e8eedcaf",
   "metadata": {},
   "outputs": [
    {
     "name": "stdout",
     "output_type": "stream",
     "text": [
      "(34855, 7)\n"
     ]
    }
   ],
   "source": [
    "# Displaying the Dimensions of the DataFrame\n",
    "\n",
    "## Objective:\n",
    "#- Print the number of rows and columns in the DataFrame.\n",
    "print(df.shape)"
   ]
  },
  {
   "cell_type": "code",
   "execution_count": 31,
   "id": "234ed5f4",
   "metadata": {},
   "outputs": [
    {
     "name": "stdout",
     "output_type": "stream",
     "text": [
      "Restaurant Name           object\n",
      "Rating                   float64\n",
      "Cuisine                   object\n",
      "Average Price            float64\n",
      "Average Delivery Time      int32\n",
      "Safety Measure            object\n",
      "Location                  object\n",
      "dtype: object\n"
     ]
    }
   ],
   "source": [
    "# Converting Data Types of DataFrame Columns\n",
    "\n",
    "## Objective:\n",
    "#- Modify the data types of specific columns in the DataFrame according to a predefined dictionary.\n",
    "\n",
    "typ={\"Restaurant Name\":str,\"Rating\":float,\"Cuisine\":str,\"Average Price\":float,\"Average Delivery Time\":int,\"Safety Measure\":str,\"Location\":str}\n",
    "df=df.astype(typ)\n",
    "print(df.dtypes)"
   ]
  },
  {
   "cell_type": "code",
   "execution_count": 32,
   "id": "85fe5d85",
   "metadata": {},
   "outputs": [
    {
     "name": "stdout",
     "output_type": "stream",
     "text": [
      "Empty DataFrame\n",
      "Columns: [Restaurant Name, Rating, Cuisine, Average Price, Average Delivery Time, Safety Measure, Location]\n",
      "Index: []\n"
     ]
    }
   ],
   "source": [
    "# Displaying Rows with 'Average Delivery Time' Equal to 1\n",
    "\n",
    "## Objective:\n",
    "#- Print rows from the DataFrame where the 'Average Delivery Time' column has a value equal to 1.\n",
    "\n",
    "print(df[df[\"Average Delivery Time\"]==1])"
   ]
  },
  {
   "cell_type": "code",
   "execution_count": 33,
   "id": "02a62115",
   "metadata": {},
   "outputs": [
    {
     "name": "stdout",
     "output_type": "stream",
     "text": [
      "0\n"
     ]
    }
   ],
   "source": [
    "print(df['Restaurant Name'].isnull().values.sum())"
   ]
  },
  {
   "cell_type": "code",
   "execution_count": 34,
   "id": "0974ad7b",
   "metadata": {},
   "outputs": [
    {
     "name": "stdout",
     "output_type": "stream",
     "text": [
      "                         Rating  Average Price  Average Delivery Time\n",
      "Rating                 1.000000      -0.004094              -0.101681\n",
      "Average Price         -0.004094       1.000000               0.060411\n",
      "Average Delivery Time -0.101681       0.060411               1.000000\n"
     ]
    },
    {
     "name": "stderr",
     "output_type": "stream",
     "text": [
      "C:\\Users\\madhu\\AppData\\Local\\Temp\\ipykernel_26172\\4212406737.py:1: FutureWarning: The default value of numeric_only in DataFrame.corr is deprecated. In a future version, it will default to False. Select only valid columns or specify the value of numeric_only to silence this warning.\n",
      "  print(df.corr())\n"
     ]
    }
   ],
   "source": [
    "# Calculating and Displaying Correlation Matrix\n",
    "\n",
    "## Objective:\n",
    "#- Calculate and print the correlation matrix for numeric columns in the DataFrame.\n",
    "\n",
    "print(df.corr())"
   ]
  },
  {
   "cell_type": "code",
   "execution_count": 35,
   "id": "33b62103",
   "metadata": {},
   "outputs": [],
   "source": [
    "#df.plot.bar(x=\"Average Price\",y=\"Average Delivery Time\")"
   ]
  },
  {
   "cell_type": "code",
   "execution_count": 36,
   "id": "9ee3f705",
   "metadata": {},
   "outputs": [],
   "source": [
    "#df.to_csv(\"zomato_dataset_analysis.csv\",index=False)\n",
    "df['Index'] = range(1, len(df) + 1)"
   ]
  },
  {
   "cell_type": "code",
   "execution_count": 37,
   "id": "69738d54",
   "metadata": {},
   "outputs": [],
   "source": [
    "#df.to_csv(\"zomato_dataset_cusine.csv\",index=False,columns=[\"Index\",\"Restaurant Name\",\"Cuisine\"])\n",
    "#df.to_csv(\"zomato_FULLDATA.csv\",index=False)"
   ]
  },
  {
   "cell_type": "code",
   "execution_count": 38,
   "id": "74451245",
   "metadata": {},
   "outputs": [
    {
     "data": {
      "text/plain": [
       "(34855, 8)"
      ]
     },
     "execution_count": 38,
     "metadata": {},
     "output_type": "execute_result"
    }
   ],
   "source": [
    "df.shape"
   ]
  },
  {
   "cell_type": "code",
   "execution_count": 39,
   "id": "6038db82",
   "metadata": {},
   "outputs": [
    {
     "data": {
      "text/plain": [
       "'Bakery, Fast Food, Pizza, Sandwich, Burger'"
      ]
     },
     "execution_count": 39,
     "metadata": {},
     "output_type": "execute_result"
    }
   ],
   "source": [
    "df.iloc[0,2]"
   ]
  },
  {
   "cell_type": "code",
   "execution_count": 40,
   "id": "c42e5eef",
   "metadata": {},
   "outputs": [
    {
     "name": "stdout",
     "output_type": "stream",
     "text": [
      "['Bakery', 'Fast Food', 'Pizza', 'Sandwich', 'Burger', 'North Indian', 'Mughlai', 'Rolls', 'Momos', 'South Indian', 'Chinese', 'Street Food', 'Mithai', 'Ice Cream', 'Desserts', 'Beverages', 'Pasta', 'Shake', 'Biryani', 'Continental', 'Cafe', 'Healthy Food', 'Salad', 'Wraps', 'Waffle', 'Juices', 'Italian', 'Kebab', 'American', 'Tea', 'Hyderabadi', 'Coffee', 'Shawarma', 'Thai', 'Asian', 'Sichuan', 'Lucknowi', 'Lebanese', 'BBQ', 'Seafood', 'Rajasthani', 'Sushi', 'Pancake', 'Korean', 'Mediterranean', 'Mexican', 'Maharashtrian', 'European', 'Oriental', 'Turkish', 'Mishti', 'Gujarati', 'Panini', 'Tibetan', 'Hot dogs', 'Finger Food', 'Kathiyawadi', 'Roast Chicken', 'Cake', 'Japanese', 'Kerala', 'Bubble Tea', 'Grilled Chicken', 'Arabian', 'Middle Eastern', 'Bengali', 'Awadhi', 'Parsi', 'Bar Food', 'Afghan', 'Modern Indian', 'French', 'Bihari', 'Sindhi', 'Paan', 'Saoji', 'Chettinad', 'Steak', 'Burmese', 'Tex-Mex', 'Andhra', 'Naga', 'Indonesian', 'Odia', 'Tamil', 'Mangalorean', 'Vietnamese', 'North Eastern', 'Portuguese', 'Malwani', 'Charcoal Chicken', 'Frozen Yogurt', 'Mandi', 'Konkan', 'Goan', 'Drinks Only', 'Bohri', 'Cantonese', 'Malaysian', 'Greek', 'Himachali', 'Belgian', 'Singaporean', 'Cuisine Varies', 'Garhwali', 'African', 'Nepalese', 'Egyptian', 'Spanish', 'Assamese', 'Manipuri', 'Mongolian', 'Poké', 'Brazilian', 'Bangladeshi', 'Kashmiri', 'Raw Meats', 'Iranian', 'German', 'Sri Lankan', 'Moroccan', 'Russian']\n"
     ]
    }
   ],
   "source": [
    "# Extracting Unique Words from 'Cuisine' Column\n",
    "\n",
    "## Objective:\n",
    "#- Define a function to extract unique words from the 'Cuisine' column in the DataFrame.\n",
    "\n",
    "import re\n",
    "def word_search():\n",
    "    y=[]\n",
    "    for i in range(0,34855):\n",
    "        words=df.iloc[i,2].split(',')\n",
    "        for w in words:\n",
    "            if re.search(w.strip(),str(y)):\n",
    "                pass\n",
    "            else:\n",
    "                y.append(w.strip())\n",
    "    print(y)\n",
    "    return y\n",
    "z=word_search()"
   ]
  },
  {
   "cell_type": "code",
   "execution_count": 41,
   "id": "a8610422",
   "metadata": {},
   "outputs": [
    {
     "data": {
      "text/plain": [
       "122"
      ]
     },
     "execution_count": 41,
     "metadata": {},
     "output_type": "execute_result"
    }
   ],
   "source": [
    "len(z)"
   ]
  },
  {
   "cell_type": "code",
   "execution_count": 42,
   "id": "e5732c7e",
   "metadata": {},
   "outputs": [],
   "source": [
    "#cuisine=pd.DataFrame(index=df[\"Restaurant Name\"],columns=z)\n",
    "#cuisine.to_csv(\"cusine.csv\")\n",
    "#34855"
   ]
  },
  {
   "cell_type": "code",
   "execution_count": 43,
   "id": "cfcd8a2c",
   "metadata": {},
   "outputs": [],
   "source": [
    "import re\n",
    "#def word_search():\n",
    " #   for i in range(0,122):\n",
    "  #      for j in range(0,34928):\n",
    "   #         words=df.iloc[j,2].split(',')\n",
    "    #        for w in words:\n",
    "     #           if re.search(z[i],w.strip()):\n",
    "      #              cuisine.iloc[j,i]=1\n",
    "       #             break\n",
    "        #        else:\n",
    "         #           cuisine.iloc[j,i]=0\n",
    "                    \n",
    "        \n",
    "#word_search()\n",
    "#cuisine.to_csv(\"cusine.csv\")"
   ]
  },
  {
   "cell_type": "code",
   "execution_count": 44,
   "id": "190f97f1",
   "metadata": {},
   "outputs": [
    {
     "name": "stdout",
     "output_type": "stream",
     "text": [
      "2\n"
     ]
    }
   ],
   "source": [
    "print(df.iloc[1,7])"
   ]
  },
  {
   "cell_type": "code",
   "execution_count": 45,
   "id": "0a06fb5e",
   "metadata": {},
   "outputs": [],
   "source": [
    "cuisine_1=pd.DataFrame(columns=[\"Restaurant_Names\",\"Cusine\",\"Index\"])\n",
    "cuisine.to_csv(\"cusine.csv\")\n",
    "#34855"
   ]
  },
  {
   "cell_type": "code",
   "execution_count": 55,
   "id": "b86e006d",
   "metadata": {},
   "outputs": [
    {
     "name": "stdout",
     "output_type": "stream",
     "text": [
      "     Unnamed: 0      Cusine                                             images\n",
      "0             0      Bakery  https://b.zmtcdn.com/data/o2_assets/65352e5234...\n",
      "1             1   Fast Food  https://b.zmtcdn.com/data/dish_photos/4bb/b64f...\n",
      "2             2       Pizza  https://media-assets.swiggy.com/swiggy/image/u...\n",
      "3             3    Sandwich  https://media-assets.swiggy.com/swiggy/image/u...\n",
      "4             4      Burger  https://media-assets.swiggy.com/swiggy/image/u...\n",
      "..          ...         ...                                                ...\n",
      "117         117     Iranian  https://b.zmtcdn.com/data/o2_assets/f9be378a14...\n",
      "118         118      German  https://media-assets.swiggy.com/swiggy/image/u...\n",
      "119         119  Sri Lankan  https://b.zmtcdn.com/data/o2_assets/f9be378a14...\n",
      "120         120    Moroccan  https://b.zmtcdn.com/data/o2_assets/f9be378a14...\n",
      "121         121     Russian  https://img.freepik.com/free-photo/traditional...\n",
      "\n",
      "[122 rows x 3 columns]\n",
      "https://media-assets.swiggy.com/swiggy/image/upload/fl_lossy,f_auto,q_auto,w_288,h_360/v1674029859/PC_Creative%20refresh/3D_bau/banners_new/Pizza.png\n"
     ]
    }
   ],
   "source": [
    "# Reading Cuisine Images from CSV and Printing Pizza Images\n",
    "\n",
    "## Objective:\n",
    "#-- Read cuisine images from a CSV file and print URLs associated with the \"Pizza\" cuisine.\n",
    "\n",
    "images_cusine=pd.read_csv(\"cusine_images.csv\")\n",
    "print(images_cusine)   \n",
    "for img in images_cusine.index:\n",
    "    if(images_cusine.iloc[img,1]==\"Pizza\"):\n",
    "        print(images_cusine.iloc[img,2])"
   ]
  },
  {
   "cell_type": "code",
   "execution_count": 58,
   "id": "0f2dc0f2",
   "metadata": {
    "scrolled": true
   },
   "outputs": [
    {
     "name": "stdout",
     "output_type": "stream",
     "text": [
      "               Restaurant_Names      Cusine  Index  \\\n",
      "0                 Campus Bakers      Bakery      1   \n",
      "1              Goverdhan Bakery      Bakery      7   \n",
      "2                     Cake Wala      Bakery     10   \n",
      "3                    Cake House      Bakery     13   \n",
      "4                 Bhagat Halwai      Bakery     15   \n",
      "...                         ...         ...    ...   \n",
      "129818  German Bakery Wunderbar      German  27644   \n",
      "129819            Ahare 8 Khana  Sri Lankan  29987   \n",
      "129820                 Roastown    Moroccan  31295   \n",
      "129821                Cofi Club     Russian  31933   \n",
      "129822          Medovika Bakers     Russian  33597   \n",
      "\n",
      "                                                   Images  \n",
      "0       https://b.zmtcdn.com/data/o2_assets/65352e5234...  \n",
      "1       https://b.zmtcdn.com/data/o2_assets/65352e5234...  \n",
      "2       https://b.zmtcdn.com/data/o2_assets/65352e5234...  \n",
      "3       https://b.zmtcdn.com/data/o2_assets/65352e5234...  \n",
      "4       https://b.zmtcdn.com/data/o2_assets/65352e5234...  \n",
      "...                                                   ...  \n",
      "129818  https://media-assets.swiggy.com/swiggy/image/u...  \n",
      "129819  https://b.zmtcdn.com/data/o2_assets/f9be378a14...  \n",
      "129820  https://b.zmtcdn.com/data/o2_assets/f9be378a14...  \n",
      "129821  https://img.freepik.com/free-photo/traditional...  \n",
      "129822  https://img.freepik.com/free-photo/traditional...  \n",
      "\n",
      "[129823 rows x 4 columns]\n"
     ]
    }
   ],
   "source": [
    "# Searching for Cuisines in 'Cuisine' Column and Creating a New DataFrame\n",
    "\n",
    "## Objective:\n",
    "#- Search for specific cuisines in the 'Cuisine' column of the main DataFrame and create a new DataFrame with additional information.\n",
    "\n",
    "import re\n",
    "cus=[]\n",
    "res=[]\n",
    "ind=[]\n",
    "imgs=[]\n",
    "def word_search():\n",
    "    for i in range(0,122):\n",
    "        for j in range(0,34855):\n",
    "            words=df.iloc[j,2].split(',')\n",
    "            for w in words:\n",
    "                if re.search(z[i],w.strip()):\n",
    "                    res.append(df.iloc[j,0])\n",
    "                    cus.append(w.strip())\n",
    "                    for img in images_cusine.index:\n",
    "                        if(images_cusine.iloc[img,1]==w.strip()):\n",
    "                            imgs.append(images_cusine.iloc[img,2])\n",
    "                            break\n",
    "                    ind.append(df.iloc[j,7])\n",
    "                    break\n",
    "                    \n",
    "        \n",
    "word_search()\n",
    "cuis=pd.DataFrame({\"Restaurant_Names\":res,\"Cusine\":cus,\"Index\":ind,\"Images\":imgs})\n",
    "print(cuis)\n",
    "cuis.to_csv(\"cusine_FULLDATA_new.csv\")"
   ]
  },
  {
   "cell_type": "code",
   "execution_count": 59,
   "id": "c73d4a17",
   "metadata": {},
   "outputs": [],
   "source": [
    "cuis.to_csv(\"cusine_fulldataset_new.csv\")"
   ]
  },
  {
   "cell_type": "code",
   "execution_count": null,
   "id": "3458d011",
   "metadata": {},
   "outputs": [],
   "source": [
    "cusine_iamges=pd.DataFrame({\"Cusine\":z})\n",
    "#cusine_iamges.to_csv(\"cusine_images.csv\")"
   ]
  },
  {
   "cell_type": "code",
   "execution_count": null,
   "id": "df94e7be",
   "metadata": {},
   "outputs": [],
   "source": [
    "import requests\n",
    "image=[]\n",
    "for i in range(0,70):\n",
    "    word=z[i].replace(\" \", \"_\")\n",
    "    link=\"https://media-assets.swiggy.com/swiggy/image/upload/fl_lossy,f_auto,q_auto,w_288,h_360/v1674029859/PC_Creative%20refresh/3D_bau/banners_new/\"+word+\".png\"\n",
    "    response = requests.head(link)\n",
    "    print(i)\n",
    "    if response.status_code != 404:\n",
    "        image.append(link)\n",
    "    else:\n",
    "        image.append(\" \")\n",
    "print(image)        "
   ]
  }
 ],
 "metadata": {
  "kernelspec": {
   "display_name": "Python 3 (ipykernel)",
   "language": "python",
   "name": "python3"
  },
  "language_info": {
   "codemirror_mode": {
    "name": "ipython",
    "version": 3
   },
   "file_extension": ".py",
   "mimetype": "text/x-python",
   "name": "python",
   "nbconvert_exporter": "python",
   "pygments_lexer": "ipython3",
   "version": "3.11.3"
  }
 },
 "nbformat": 4,
 "nbformat_minor": 5
}
